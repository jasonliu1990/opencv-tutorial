{
 "cells": [
  {
   "cell_type": "markdown",
   "metadata": {},
   "source": [
    "## Scale Invariant Feature Transform (SIFT)"
   ]
  },
  {
   "cell_type": "code",
   "execution_count": 1,
   "metadata": {},
   "outputs": [],
   "source": [
    "import cv2\n",
    "import numpy as np"
   ]
  },
  {
   "cell_type": "code",
   "execution_count": 2,
   "metadata": {},
   "outputs": [
    {
     "data": {
      "text/plain": [
       "'4.4.0'"
      ]
     },
     "execution_count": 2,
     "metadata": {},
     "output_type": "execute_result"
    }
   ],
   "source": [
    "cv2.__version__"
   ]
  },
  {
   "cell_type": "code",
   "execution_count": 3,
   "metadata": {},
   "outputs": [],
   "source": [
    "path = './dataset/test_1.jpg'"
   ]
  },
  {
   "cell_type": "code",
   "execution_count": 4,
   "metadata": {},
   "outputs": [],
   "source": [
    "img = cv2.imread(path)\n",
    "gray = cv2.cvtColor(img, cv2.COLOR_BGR2GRAY)"
   ]
  },
  {
   "cell_type": "markdown",
   "metadata": {},
   "source": [
    "特徵點"
   ]
  },
  {
   "cell_type": "code",
   "execution_count": 5,
   "metadata": {},
   "outputs": [],
   "source": [
    "# SIFT實體化\n",
    "sift = cv2.xfeatures2d.SIFT_create()\n",
    "# 偵測 (用灰階圖)\n",
    "kp = sift.detect(gray, None)"
   ]
  },
  {
   "cell_type": "code",
   "execution_count": 6,
   "metadata": {},
   "outputs": [],
   "source": [
    "# 用cv2.drawKeypoints畫圖\n",
    "img = cv2.drawKeypoints(gray, kp, img)\n",
    "cv2.imshow('drawKeypoints', img)\n",
    "cv2.waitKey(0)\n",
    "cv2.destroyAllWindows()"
   ]
  },
  {
   "cell_type": "markdown",
   "metadata": {},
   "source": [
    "計算特徵"
   ]
  },
  {
   "cell_type": "code",
   "execution_count": 7,
   "metadata": {},
   "outputs": [],
   "source": [
    "kp, des = sift.compute(gray, kp)"
   ]
  },
  {
   "cell_type": "code",
   "execution_count": 8,
   "metadata": {},
   "outputs": [
    {
     "name": "stdout",
     "output_type": "stream",
     "text": [
      "(6809,)\n"
     ]
    }
   ],
   "source": [
    "print(np.array(kp).shape)"
   ]
  },
  {
   "cell_type": "code",
   "execution_count": 9,
   "metadata": {},
   "outputs": [
    {
     "data": {
      "text/plain": [
       "(6809, 128)"
      ]
     },
     "execution_count": 9,
     "metadata": {},
     "output_type": "execute_result"
    }
   ],
   "source": [
    "des.shape #128維特徵向量 4*4*8"
   ]
  },
  {
   "cell_type": "code",
   "execution_count": 10,
   "metadata": {},
   "outputs": [
    {
     "data": {
      "text/plain": [
       "array([  0.,   0.,   0.,   0.,   0.,   0.,   0.,   0.,  21.,   8.,   0.,\n",
       "         0.,   0.,   0.,   0.,   0., 157.,  31.,   3.,   1.,   0.,   0.,\n",
       "         2.,  63.,  75.,   7.,  20.,  35.,  32.,  74.,  23.,  66.,   0.,\n",
       "         0.,   1.,   3.,   4.,   1.,   0.,   0.,  76.,  15.,  13.,  27.,\n",
       "         8.,   1.,   0.,   2., 157., 112.,  50.,  31.,   2.,   0.,   0.,\n",
       "         9.,  49.,  42., 157., 157.,  12.,   4.,   1.,   5.,   1.,  13.,\n",
       "         7.,  12.,  41.,   5.,   0.,   0., 104.,   8.,   5.,  19.,  53.,\n",
       "         5.,   1.,  21., 157.,  55.,  35.,  90.,  22.,   0.,   0.,  17.,\n",
       "         3.,   6.,  69., 157.,  52.,   0.,   0.,   0.,   7.,  33.,  10.,\n",
       "        10.,  11.,   0.,   1.,   6.,  44.,   9.,   3.,   7.,  19.,   5.,\n",
       "        14.,  26.,  38.,  28.,  32.,  92.,  16.,   2.,   3.,   4.,   0.,\n",
       "         0.,   7.,  92.,  23.,   0.,   0.,   0.], dtype=float32)"
      ]
     },
     "execution_count": 10,
     "metadata": {},
     "output_type": "execute_result"
    }
   ],
   "source": [
    "des[0]"
   ]
  },
  {
   "cell_type": "code",
   "execution_count": null,
   "metadata": {},
   "outputs": [],
   "source": []
  },
  {
   "cell_type": "code",
   "execution_count": null,
   "metadata": {},
   "outputs": [],
   "source": []
  }
 ],
 "metadata": {
  "kernelspec": {
   "display_name": "cv",
   "language": "python",
   "name": "cv"
  },
  "language_info": {
   "codemirror_mode": {
    "name": "ipython",
    "version": 3
   },
   "file_extension": ".py",
   "mimetype": "text/x-python",
   "name": "python",
   "nbconvert_exporter": "python",
   "pygments_lexer": "ipython3",
   "version": "3.7.7"
  }
 },
 "nbformat": 4,
 "nbformat_minor": 4
}
