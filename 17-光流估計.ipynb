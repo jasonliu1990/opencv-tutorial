{
 "cells": [
  {
   "cell_type": "markdown",
   "metadata": {},
   "source": [
    "cv2.calcOpticalFlowPyrLK(): <br>\n",
    "\n",
    "#### params\n",
    "* prevImage 前一幀\n",
    "* nextImage 當前幀\n",
    "* prevPts 帶跟蹤的特徵點向量\n",
    "* winSize 搜尋窗口的大小\n",
    "* maxLevel 最大的金字塔層數<br>\n",
    "\n",
    "#### return\n",
    "* nextPts 輸出跟蹤特徵點向量\n",
    "* status 特徵點是否找到; 1: 找到; 0: 未找到"
   ]
  },
  {
   "cell_type": "code",
   "execution_count": 1,
   "metadata": {},
   "outputs": [],
   "source": [
    "import numpy as np\n",
    "import cv2"
   ]
  },
  {
   "cell_type": "code",
   "execution_count": 2,
   "metadata": {},
   "outputs": [],
   "source": [
    "cap = cv2.VideoCapture('dataset/test.avi')"
   ]
  },
  {
   "cell_type": "code",
   "execution_count": 8,
   "metadata": {},
   "outputs": [],
   "source": [
    "# 角點檢測參數\n",
    "feature_params = {\n",
    "    'maxCorners': 100, # 角點最大數量(效率)\n",
    "    'qualityLevel': 0.3, # 品質因子(特徵值越大越好)\n",
    "    'minDistance': 7 # 距離相當的距離選比較強的角點, 弱的就不要了\n",
    "}\n",
    "# lucas kanade參數\n",
    "lk_params = {\n",
    "    'winSize': (15, 15),\n",
    "    'maxLevel': 2\n",
    "}\n",
    "# 隨機色條\n",
    "color = np.random.randint(0, 255, (100, 3))"
   ]
  },
  {
   "cell_type": "code",
   "execution_count": null,
   "metadata": {},
   "outputs": [],
   "source": [
    "# 計算第一幀\n",
    "ret, old_frame = cap.read()\n",
    "old_gray = cv2.cvtColor(old_frame, cv2.COLOR_BGR2GRAY)\n",
    "# 檢測及跟蹤角點\n",
    "p0 = cv2.goodFeaturesToTrack(old_gray, mask=None, **feature_params)\n",
    "# 建立一個mask\n",
    "mask = np.zeros_like(old_frame)\n",
    "\n",
    "while True:\n",
    "    ret, frame = cap.read()\n",
    "    frame_gray = cv2.cvtColor(frame, cv2,COLOR_BGR2GRAY)\n",
    "    # 光流估計函數\n",
    "    # 角點, 狀態(1 or 0), 錯誤訊息\n",
    "    p1, st, err = cv2.calcOpticalFlowPyrLK(old_gray, frame_gray, p0, None, **lk_params)\n",
    "    \n",
    "    good_new = p1[st == 1] # 找到的角點\n",
    "    good_old = p0[st == 1]\n",
    "    # 軌跡繪製\n",
    "    for i, (new, old) in enumerate(zip(good_new, good_old)):\n",
    "        a, b = new.ravel()\n",
    "        c, d = old.ravel()\n",
    "        mask = cv2.line(mask, (a, b), (c, d), color[i].tolist(), 2)\n",
    "        frame = cv2.circle(frame, (a, b), 5, color[i].tolist(), -1)        \n",
    "    img = cv2.add(frame, mask)\n",
    "    \n",
    "    cv2.imshow('frame',img)\n",
    "    k = cv2.waitKey(150) & 0xff\n",
    "    if k == 27:\n",
    "        break\n",
    "    \n",
    "    # 更新\n",
    "    old_gray = frame_gray.copy()\n",
    "    p0 = good_new.reshape(-1, 1, 2)\n",
    "    \n",
    "cv2.destroyAllWindows()\n",
    "cap.release()"
   ]
  },
  {
   "cell_type": "code",
   "execution_count": null,
   "metadata": {},
   "outputs": [],
   "source": []
  },
  {
   "cell_type": "code",
   "execution_count": null,
   "metadata": {},
   "outputs": [],
   "source": []
  },
  {
   "cell_type": "code",
   "execution_count": null,
   "metadata": {},
   "outputs": [],
   "source": []
  }
 ],
 "metadata": {
  "kernelspec": {
   "display_name": "cv",
   "language": "python",
   "name": "cv"
  },
  "language_info": {
   "codemirror_mode": {
    "name": "ipython",
    "version": 3
   },
   "file_extension": ".py",
   "mimetype": "text/x-python",
   "name": "python",
   "nbconvert_exporter": "python",
   "pygments_lexer": "ipython3",
   "version": "3.7.7"
  }
 },
 "nbformat": 4,
 "nbformat_minor": 4
}
