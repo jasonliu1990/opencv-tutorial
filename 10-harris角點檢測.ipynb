{
 "cells": [
  {
   "cell_type": "markdown",
   "metadata": {},
   "source": [
    "### cv2.cornerHarris()\n",
    "* img: float32\n",
    "* blockSize: 角點檢測中指定區域的大小\n",
    "* ksize: Sobel求導中使用的窗口大小\n",
    "* k: 取值參數為[0.04, 0.06]"
   ]
  },
  {
   "cell_type": "code",
   "execution_count": 1,
   "metadata": {},
   "outputs": [],
   "source": [
    "import cv2\n",
    "import numpy as np"
   ]
  },
  {
   "cell_type": "code",
   "execution_count": 2,
   "metadata": {},
   "outputs": [],
   "source": [
    "path = './dataset/chessboard.jpg'"
   ]
  },
  {
   "cell_type": "code",
   "execution_count": 13,
   "metadata": {},
   "outputs": [
    {
     "name": "stdout",
     "output_type": "stream",
     "text": [
      "img shape: (512, 512, 3)\n",
      "dst shape: (512, 512)\n"
     ]
    }
   ],
   "source": [
    "img = cv2.imread(path)\n",
    "print(f'img shape: {img.shape}')\n",
    "gray = cv2.cvtColor(img, cv2.COLOR_BGR2GRAY)\n",
    "dst = cv2.cornerHarris(gray, 2, 3, 0.04)\n",
    "print(f'dst shape: {dst.shape}')"
   ]
  },
  {
   "cell_type": "code",
   "execution_count": 14,
   "metadata": {},
   "outputs": [],
   "source": [
    "# 一邊情況下跟最大值做相比\n",
    "# 範例即是如果該點 > 最大值的10%, 我就標記\n",
    "img[dst > 0.1 * dst.max()] = [0, 0, 255]\n",
    "cv2.imshow('dst', img)\n",
    "cv2.waitKey(0)\n",
    "cv2.destroyAllWindows()"
   ]
  },
  {
   "cell_type": "code",
   "execution_count": null,
   "metadata": {},
   "outputs": [],
   "source": []
  }
 ],
 "metadata": {
  "kernelspec": {
   "display_name": "cv",
   "language": "python",
   "name": "cv"
  },
  "language_info": {
   "codemirror_mode": {
    "name": "ipython",
    "version": 3
   },
   "file_extension": ".py",
   "mimetype": "text/x-python",
   "name": "python",
   "nbconvert_exporter": "python",
   "pygments_lexer": "ipython3",
   "version": "3.7.7"
  }
 },
 "nbformat": 4,
 "nbformat_minor": 4
}
