{
 "cells": [
  {
   "cell_type": "code",
   "execution_count": 1,
   "metadata": {},
   "outputs": [],
   "source": [
    "import cv2\n",
    "import matplotlib.pyplot as plt\n",
    "import numpy as np\n",
    "%matplotlib inline"
   ]
  },
  {
   "cell_type": "code",
   "execution_count": 2,
   "metadata": {},
   "outputs": [],
   "source": [
    "def cv_show(img, name='image'):\n",
    "    cv2.imshow(name, img)\n",
    "    cv2.waitKey(0)\n",
    "    cv2.destroyAllWindows()"
   ]
  },
  {
   "cell_type": "markdown",
   "metadata": {},
   "source": [
    "## 圖像金字塔\n",
    "* 高斯金字塔\n",
    "* 拉普拉斯金字塔"
   ]
  },
  {
   "cell_type": "markdown",
   "metadata": {},
   "source": [
    "### 高斯金字塔\n",
    "- 向下採樣(縮小)\n",
    "    - 與高斯內核卷積\n",
    "    - 去除偶數行和列\n",
    "- 向上採樣(放大)\n",
    "    - 每個方向擴大兩倍, 新增的行列用0填充\n",
    "    - 使用相同的內核與放大後的圖像做卷積, 獲得近似值"
   ]
  },
  {
   "cell_type": "code",
   "execution_count": 3,
   "metadata": {},
   "outputs": [],
   "source": [
    "path = 'dataset/AM.png'"
   ]
  },
  {
   "cell_type": "code",
   "execution_count": 4,
   "metadata": {},
   "outputs": [
    {
     "name": "stdout",
     "output_type": "stream",
     "text": [
      "(442, 340, 3)\n"
     ]
    }
   ],
   "source": [
    "img = cv2.imread(path)\n",
    "cv_show(img)\n",
    "print(img.shape)"
   ]
  },
  {
   "cell_type": "code",
   "execution_count": 5,
   "metadata": {},
   "outputs": [
    {
     "name": "stdout",
     "output_type": "stream",
     "text": [
      "(884, 680, 3)\n"
     ]
    }
   ],
   "source": [
    "up = cv2.pyrUp(img)\n",
    "cv_show(up)\n",
    "print(up.shape)"
   ]
  },
  {
   "cell_type": "code",
   "execution_count": 6,
   "metadata": {},
   "outputs": [
    {
     "name": "stdout",
     "output_type": "stream",
     "text": [
      "(221, 170, 3)\n"
     ]
    }
   ],
   "source": [
    "down = cv2.pyrDown(img)\n",
    "cv_show(down)\n",
    "print(down.shape)"
   ]
  },
  {
   "cell_type": "code",
   "execution_count": 7,
   "metadata": {},
   "outputs": [
    {
     "name": "stdout",
     "output_type": "stream",
     "text": [
      "(1768, 1360, 3)\n"
     ]
    }
   ],
   "source": [
    "up2 = cv2.pyrUp(up)\n",
    "cv_show(up2)\n",
    "print(up2.shape)"
   ]
  },
  {
   "cell_type": "code",
   "execution_count": 12,
   "metadata": {},
   "outputs": [
    {
     "name": "stdout",
     "output_type": "stream",
     "text": [
      "(442, 340, 3)\n"
     ]
    }
   ],
   "source": [
    "up = cv2.pyrUp(img)\n",
    "up_down = cv2.pyrDown(up)\n",
    "\n",
    "res = np.hstack((img, up_down))\n",
    "cv_show(res)\n",
    "print(up_down.shape)"
   ]
  },
  {
   "cell_type": "code",
   "execution_count": 13,
   "metadata": {},
   "outputs": [],
   "source": [
    "up = cv2.pyrUp(img)\n",
    "up_down = cv2.pyrDown(up)\n",
    "cv_show(img - up_down)"
   ]
  },
  {
   "cell_type": "markdown",
   "metadata": {},
   "source": [
    "### 拉普拉斯金字塔\n",
    "$L{_i} = G{_i} - PyrUp(PyrDown(G{_i}))$ <br>\n"
   ]
  },
  {
   "cell_type": "code",
   "execution_count": 14,
   "metadata": {},
   "outputs": [],
   "source": [
    "down = cv2.pyrDown(img)\n",
    "down_up = cv2.pyrUp(down)\n",
    "L_1 = img - down_up\n",
    "cv_show(L_1)"
   ]
  },
  {
   "cell_type": "markdown",
   "metadata": {},
   "source": [
    "## 圖像輪廓"
   ]
  },
  {
   "cell_type": "markdown",
   "metadata": {},
   "source": [
    "#### cv2.findContours(img, mode, method)\n",
    "mode: 輪廓檢索模式\n",
    "    * RETR_EXTERNAL: 指檢索最外面的輪廓\n",
    "    * RETR_LIST: 檢索所有的輪廓, 並將其保存到一條LIST內\n",
    "    * RETR_CCOMP: 檢索所有的輪廓, 並將他們組織為兩層, 頂層是個部份的外部邊界, 第二層是空洞的邊界\n",
    "    * RETR_TREE: 檢索所有的輪廓, 並重構嵌套輪廓的整個層次 <----推薦\n",
    "method: 輪廓逼近方式\n",
    "    * CHAIN_APPROX_NONE: 以Freeman鍊碼的方式輸出輪廓, 所有其他方法輸出多邊形(頂點的序列)\n",
    "    * CHAIN_APPROX_SIMPLE: 壓縮水平, 垂直和斜的部分, 也就是函數只保留他們的終點部分"
   ]
  },
  {
   "cell_type": "code",
   "execution_count": 19,
   "metadata": {},
   "outputs": [],
   "source": [
    "img = cv2.imread('dataset/car.png') # read img\n",
    "gray = cv2.cvtColor(img, cv2.COLOR_BGR2GRAY) # 轉灰階\n",
    "ret, thresh = cv2.threshold(gray, 127, 255, cv2.THRESH_BINARY) # 二值化\n",
    "cv_show(thresh)"
   ]
  },
  {
   "cell_type": "code",
   "execution_count": 21,
   "metadata": {},
   "outputs": [],
   "source": [
    "# binary, contours, hierarchy = cv2.findContours(thresh, cv2.RETR_TREE, cv2.CHAIN_APPROX_NONE)\n",
    "contours, hierarchy = cv2.findContours(thresh, cv2.RETR_TREE, cv2.CHAIN_APPROX_NONE)"
   ]
  },
  {
   "cell_type": "code",
   "execution_count": null,
   "metadata": {},
   "outputs": [],
   "source": []
  },
  {
   "cell_type": "code",
   "execution_count": null,
   "metadata": {},
   "outputs": [],
   "source": []
  },
  {
   "cell_type": "code",
   "execution_count": null,
   "metadata": {},
   "outputs": [],
   "source": []
  },
  {
   "cell_type": "code",
   "execution_count": null,
   "metadata": {},
   "outputs": [],
   "source": []
  }
 ],
 "metadata": {
  "kernelspec": {
   "display_name": "cv",
   "language": "python",
   "name": "cv"
  },
  "language_info": {
   "codemirror_mode": {
    "name": "ipython",
    "version": 3
   },
   "file_extension": ".py",
   "mimetype": "text/x-python",
   "name": "python",
   "nbconvert_exporter": "python",
   "pygments_lexer": "ipython3",
   "version": "3.7.7"
  }
 },
 "nbformat": 4,
 "nbformat_minor": 4
}
