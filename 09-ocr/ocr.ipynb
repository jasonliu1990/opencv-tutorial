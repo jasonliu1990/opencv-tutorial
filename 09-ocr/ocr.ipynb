{
 "cells": [
  {
   "cell_type": "code",
   "execution_count": 1,
   "metadata": {},
   "outputs": [],
   "source": [
    "import numpy as np\n",
    "import cv2"
   ]
  },
  {
   "cell_type": "markdown",
   "metadata": {},
   "source": [
    "# 文件OCR\n",
    "### 前處理\n",
    "* step1: 邊緣檢測\n",
    "* step2: 獲取輪廓\n",
    "* step3: 變換"
   ]
  },
  {
   "cell_type": "code",
   "execution_count": 2,
   "metadata": {},
   "outputs": [],
   "source": [
    "def order_points(pts):\n",
    "    rect = np.zeros((4, 2), dtype='float32')\n",
    "    # 0123 分別是左上 右上 右下 左下\n",
    "    # 計算左上 右下\n",
    "    s = pts.sum(axis=1)\n",
    "    rect[0] = pts[np.argmin(s)]\n",
    "    rect[2] = pts[np.argmax(s)]\n",
    "    \n",
    "    # 計算右上 左下\n",
    "    diff = np.diff(pts, axis=1)\n",
    "    rect[1] = pts[np.argmin(diff)]\n",
    "    rect[3] = pts[np.argmax(diff)]\n",
    "    return rect\n",
    "\n",
    "def four_point_transform(image, pts):\n",
    "    # 獲取輸入座標\n",
    "    rect = order_points(pts)\n",
    "    (tl, tr, br, bl) = rect\n",
    "    \n",
    "    # 計算輸入的w & h\n",
    "    # 計算上下邊寬度, 取最大值(因為有近似所以可能有差)\n",
    "    widthA = np.sqrt(((br[0] - bl[0]) ** 2) + ((br[1] - bl[1]) ** 2))\n",
    "    widthB = np.sqrt(((tr[0] - tl[0]) ** 2) + ((tr[1] - tl[1]) ** 2))\n",
    "    maxWidth = max(int(widthA), int(widthB))\n",
    "    # 計算左右邊高度, 取最大值(因為有近似所以可能有差)\n",
    "    heightA = np.sqrt(((tr[0] - br[0]) ** 2) + ((tr[1] - br[1]) ** 2))\n",
    "    heightB = np.sqrt(((tl[0] - bl[0]) ** 2) + ((tl[1] - bl[1]) ** 2))\n",
    "    maxHeight = max(int(heightA), int(heightB))\n",
    "    # 變換後對應座標位置\n",
    "    # 目標點\n",
    "    dst = np.array([\n",
    "        [0, 0],\n",
    "        [maxWidth - 1, 0],\n",
    "        [maxWidth - 1, maxHeight - 1],\n",
    "        [0, maxHeight - 1]], dtype = \"float32\")\n",
    "    # 計算變換矩陣\n",
    "    # 投影變換\n",
    "    # 變換矩陣 M\n",
    "    M = cv2.getPerspectiveTransform(rect, dst)\n",
    "    warped = cv2.warpPerspective(image, M, (maxWidth, maxHeight))\n",
    "    \n",
    "    return warped\n",
    "\n",
    "def resize(image, width=None, height=None, inter=cv2.INTER_AREA):\n",
    "    dim = None\n",
    "    (h, w) = image.shape[:2]\n",
    "    if width is None and height is None:\n",
    "        return image\n",
    "    if width is None:\n",
    "        r = height / float(h)\n",
    "        dim = (int(w * r), height)\n",
    "    else:\n",
    "        r = width / float(w)\n",
    "        dim = (width, int(h * r))\n",
    "    resized = cv2.resize(image, dim, interpolation=inter)\n",
    "    return resized\n",
    "\n",
    "def cv_show(img, name='image'):\n",
    "    cv2.imshow(name, img)\n",
    "    cv2.waitKey(0)\n",
    "    cv2.destroyAllWindows()    "
   ]
  },
  {
   "cell_type": "code",
   "execution_count": 3,
   "metadata": {},
   "outputs": [],
   "source": [
    "path = 'images/receipt.jpg'"
   ]
  },
  {
   "cell_type": "code",
   "execution_count": 4,
   "metadata": {},
   "outputs": [],
   "source": [
    "image = cv2.imread(path)"
   ]
  },
  {
   "cell_type": "code",
   "execution_count": 5,
   "metadata": {},
   "outputs": [],
   "source": [
    "ratio = image.shape[0] / 500\n",
    "orig = image.copy()\n",
    "image = resize(orig, height=500)"
   ]
  },
  {
   "cell_type": "code",
   "execution_count": 6,
   "metadata": {},
   "outputs": [],
   "source": [
    "# 前處理\n",
    "gray = cv2.cvtColor(image, cv2.COLOR_BGR2GRAY)\n",
    "gray = cv2.GaussianBlur(gray, (5, 5), 0)\n",
    "edged = cv2.Canny(gray, 75, 200)"
   ]
  },
  {
   "cell_type": "code",
   "execution_count": 7,
   "metadata": {},
   "outputs": [
    {
     "name": "stdout",
     "output_type": "stream",
     "text": [
      "step 1 邊緣檢測\n"
     ]
    }
   ],
   "source": [
    "print('step 1 邊緣檢測')\n",
    "cv_show(image)\n",
    "cv_show(edged)"
   ]
  },
  {
   "cell_type": "code",
   "execution_count": 8,
   "metadata": {},
   "outputs": [],
   "source": [
    "# 輪廓檢測\n",
    "cnts = cv2.findContours(edged.copy(), cv2.RETR_LIST, cv2.CHAIN_APPROX_SIMPLE)[0]\n",
    "# 將檢測出的輪廓進行排序\n",
    "cnts = sorted(cnts, key=cv2.contourArea, reverse=True)[:5] # 取前幾大的"
   ]
  },
  {
   "cell_type": "code",
   "execution_count": 9,
   "metadata": {},
   "outputs": [],
   "source": [
    "for c in cnts:\n",
    "    # 計算輪廓相似\n",
    "    peri = cv2.arcLength(c, True)\n",
    "    # c: 輸入的點集, \n",
    "    # epsilon: 從原始羅擴到近似輪廓的最大距離, 準確度參數, 越小越精準\n",
    "    # True: 表示封閉的\n",
    "    approx = cv2.approxPolyDP(c, 0.02*peri, True)  # 用長度的2%當作精度\n",
    "    # 4個點就拿出來(矩形)\n",
    "    if len(approx) == 4:\n",
    "        screenCnt = approx\n",
    "        break"
   ]
  },
  {
   "cell_type": "code",
   "execution_count": 10,
   "metadata": {},
   "outputs": [
    {
     "name": "stdout",
     "output_type": "stream",
     "text": [
      "step 2 獲取輪廓\n"
     ]
    }
   ],
   "source": [
    "print('step 2 獲取輪廓')\n",
    "cv2.drawContours(image, [screenCnt], -1, (0, 255, 0), 2)\n",
    "cv2.imshow('Outline', image)\n",
    "cv2.waitKey(0)\n",
    "cv2.destroyAllWindows()"
   ]
  },
  {
   "cell_type": "code",
   "execution_count": 11,
   "metadata": {},
   "outputs": [],
   "source": [
    "# 透視變換, 目的是要將原本歪斜的圖片轉正\n",
    "# 將原本abcd 四個點, 透過一個矩陣(M)轉換成 ABCD\n",
    "# 參數: 1. 原始輸入座標 2. 轉換後的座標\n",
    "# 2: A(0, 0) B(w, 0) C(w, h) D(0, h)\n",
    "warped = four_point_transform(orig, screenCnt.reshape(4, 2) * ratio)"
   ]
  },
  {
   "cell_type": "code",
   "execution_count": 12,
   "metadata": {},
   "outputs": [],
   "source": [
    "# 二值化\n",
    "warped = cv2.cvtColor(warped, cv2.COLOR_BGR2GRAY)\n",
    "ref = cv2.threshold(warped, 100, 255, cv2.THRESH_BINARY)[1]\n"
   ]
  },
  {
   "cell_type": "code",
   "execution_count": 13,
   "metadata": {},
   "outputs": [
    {
     "name": "stdout",
     "output_type": "stream",
     "text": [
      "step 3 變換\n"
     ]
    },
    {
     "data": {
      "text/plain": [
       "27"
      ]
     },
     "execution_count": 13,
     "metadata": {},
     "output_type": "execute_result"
    }
   ],
   "source": [
    "print('step 3 變換')\n",
    "# cv2.imshow('Original', resize(orig, height = 650))\n",
    "cv2.imshow('Scanned', resize(ref, height = 650))\n",
    "cv2.waitKey(0)"
   ]
  },
  {
   "cell_type": "code",
   "execution_count": 14,
   "metadata": {},
   "outputs": [
    {
     "data": {
      "text/plain": [
       "True"
      ]
     },
     "execution_count": 14,
     "metadata": {},
     "output_type": "execute_result"
    }
   ],
   "source": [
    "cv2.imwrite('scan.jpg', ref)"
   ]
  },
  {
   "cell_type": "markdown",
   "metadata": {},
   "source": [
    "### OCR"
   ]
  },
  {
   "cell_type": "code",
   "execution_count": 15,
   "metadata": {},
   "outputs": [],
   "source": [
    "import pytesseract"
   ]
  },
  {
   "cell_type": "code",
   "execution_count": 16,
   "metadata": {},
   "outputs": [
    {
     "name": "stdout",
     "output_type": "stream",
     "text": [
      "we KK KR OK KK KK OK KK\n",
      "\n",
      "WHOL\n",
      "FOODS\n",
      "\n",
      "WHOLE FOODS MARKET\n",
      "\n",
      "399 POST RD WEST\n",
      "\n",
      "36%\n",
      "$65\n",
      "365\n",
      "365\n",
      "\n",
      "BROTH\n",
      "\n",
      " \n",
      "\n",
      "E\n",
      "S\n",
      "\n",
      "WESTPORT, CT 06880\n",
      "(203) 227-6858\n",
      "\n",
      "BACON\n",
      "BACON\n",
      "BACON\n",
      "BACUN\n",
      "\n",
      "LS\n",
      "LS\n",
      "LS\n",
      "LS\n",
      "\n",
      "CHIC\n",
      "\n",
      "FLOUR ALMOND\n",
      "CHKN BRST BNLSS SK\n",
      "HEAVY CREAM\n",
      "BALSMC REDUCT\n",
      "GRND 85/15\n",
      "\n",
      "BEEF\n",
      "\n",
      "JUICE COF CASHEW\n",
      "\n",
      "L\n",
      "\n",
      "DOCS PINT ORGANIC\n",
      "HNY ALMOND Bui\n",
      "\n",
      "xeee TAX\n",
      "\n",
      ".00\n",
      "\n",
      "BAL\n",
      "\n",
      "TER\n",
      "\n",
      "NP\n",
      "NP\n",
      "NP\n",
      "NP\n",
      "NP\n",
      "NP\n",
      "NP\n",
      "NP\n",
      "NP\n",
      "NP\n",
      "NP\n",
      "NP\n",
      "NP\n",
      "\n",
      "4 99\n",
      "4.99\n",
      "4.99\n",
      "39\n",
      "19\n",
      "99\n",
      ".80\n",
      "\n",
      "aN\n",
      "\n",
      "et\n",
      "ao — NH\n",
      "\n",
      "6.49\n",
      "5.04\n",
      "8.99\n",
      "14.49\n",
      "9.99\n",
      "101.33\n",
      "\n",
      "TY\n",
      "\n",
      "nr? 7 Th\n",
      "\n",
      "mara THN eh\n",
      "\f",
      "\n"
     ]
    }
   ],
   "source": [
    "image = cv2.imread('scan.jpg')\n",
    "text = pytesseract.image_to_string(image)\n",
    "print(text)"
   ]
  }
 ],
 "metadata": {
  "kernelspec": {
   "display_name": "cv",
   "language": "python",
   "name": "cv"
  },
  "language_info": {
   "codemirror_mode": {
    "name": "ipython",
    "version": 3
   },
   "file_extension": ".py",
   "mimetype": "text/x-python",
   "name": "python",
   "nbconvert_exporter": "python",
   "pygments_lexer": "ipython3",
   "version": "3.7.7"
  }
 },
 "nbformat": 4,
 "nbformat_minor": 4
}
