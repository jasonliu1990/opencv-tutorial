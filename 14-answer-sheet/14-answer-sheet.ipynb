{
 "cells": [
  {
   "cell_type": "code",
   "execution_count": 1,
   "metadata": {},
   "outputs": [],
   "source": [
    "import numpy as np\n",
    "import imutils\n",
    "import cv2\n",
    "import os\n",
    "import matplotlib.pyplot as plt"
   ]
  },
  {
   "cell_type": "code",
   "execution_count": 2,
   "metadata": {},
   "outputs": [],
   "source": [
    "# 路徑\n",
    "path = './images/test_01.png'\n",
    "# 正確答案\n",
    "ANSWER_KEY = {0: 1, 1: 4, 2: 0, 3: 3, 4: 1}"
   ]
  },
  {
   "cell_type": "code",
   "execution_count": 3,
   "metadata": {},
   "outputs": [],
   "source": [
    "def cv_show(img, name='img'):\n",
    "    cv2.imshow(name, img)\n",
    "    cv2.waitKey(0)\n",
    "    cv2.destroyAllWindows()  \n",
    "\n",
    "def order_points(pts):\n",
    "    rect = np.zeros((4, 2), dtype='float32')\n",
    "    # 0123 分別是左上 右上 右下 左下\n",
    "    # 計算左上 右下\n",
    "    s = pts.sum(axis=1)\n",
    "    rect[0] = pts[np.argmin(s)]\n",
    "    rect[2] = pts[np.argmax(s)]\n",
    "    \n",
    "    # 計算右上 左下\n",
    "    diff = np.diff(pts, axis=1)\n",
    "    rect[1] = pts[np.argmin(diff)]\n",
    "    rect[3] = pts[np.argmax(diff)]\n",
    "    return rect\n",
    "\n",
    "def four_point_transform(image, pts):\n",
    "    # 獲取輸入座標\n",
    "    rect = order_points(pts)\n",
    "    (tl, tr, br, bl) = rect\n",
    "    \n",
    "    # 計算輸入的w & h\n",
    "    # 計算上下邊寬度, 取最大值(因為有近似所以可能有差)\n",
    "    widthA = np.sqrt(((br[0] - bl[0]) ** 2) + ((br[1] - bl[1]) ** 2))\n",
    "    widthB = np.sqrt(((tr[0] - tl[0]) ** 2) + ((tr[1] - tl[1]) ** 2))\n",
    "    maxWidth = max(int(widthA), int(widthB))\n",
    "    # 計算左右邊高度, 取最大值(因為有近似所以可能有差)\n",
    "    heightA = np.sqrt(((tr[0] - br[0]) ** 2) + ((tr[1] - br[1]) ** 2))\n",
    "    heightB = np.sqrt(((tl[0] - bl[0]) ** 2) + ((tl[1] - bl[1]) ** 2))\n",
    "    maxHeight = max(int(heightA), int(heightB))\n",
    "    # 變換後對應座標位置\n",
    "    # 目標點\n",
    "    dst = np.array([\n",
    "        [0, 0],\n",
    "        [maxWidth - 1, 0],\n",
    "        [maxWidth - 1, maxHeight - 1],\n",
    "        [0, maxHeight - 1]], dtype = \"float32\")\n",
    "    # 計算變換矩陣\n",
    "    # 投影變換\n",
    "    # 變換矩陣 M\n",
    "    M = cv2.getPerspectiveTransform(rect, dst)\n",
    "    warped = cv2.warpPerspective(image, M, (maxWidth, maxHeight))\n",
    "    \n",
    "    return warped\n",
    "# 排序方式\n",
    "def sort_contours(cnts, method=\"left-to-right\"):\n",
    "    reverse = False\n",
    "    i = 0\n",
    "    if method == \"right-to-left\" or method == \"bottom-to-top\":\n",
    "        reverse = True\n",
    "    if method == \"top-to-bottom\" or method == \"bottom-to-top\":\n",
    "        i = 1\n",
    "    boundingBoxes = [cv2.boundingRect(c) for c in cnts]\n",
    "    (cnts, boundingBoxes) = zip(*sorted(zip(cnts, boundingBoxes),\n",
    "                                        key=lambda b: b[1][i], reverse=reverse))\n",
    "    return cnts, boundingBoxes"
   ]
  },
  {
   "cell_type": "code",
   "execution_count": 4,
   "metadata": {},
   "outputs": [],
   "source": [
    "image = cv2.imread(path)\n",
    "# 答題卡\n",
    "cv_show(image)"
   ]
  },
  {
   "cell_type": "code",
   "execution_count": 5,
   "metadata": {},
   "outputs": [],
   "source": [
    "# 前處理\n",
    "contours_img = image.copy()\n",
    "# 灰階\n",
    "gray = cv2.cvtColor(image, cv2.COLOR_BGR2GRAY)\n",
    "cv_show(gray)\n",
    "# 高斯模糊降躁\n",
    "blurred = cv2.GaussianBlur(gray, (5, 5), 0)\n",
    "cv_show(blurred)\n",
    "# 邊緣檢測\n",
    "edged = cv2.Canny(blurred, 75, 200)\n",
    "cv_show(edged)"
   ]
  },
  {
   "cell_type": "code",
   "execution_count": 6,
   "metadata": {},
   "outputs": [],
   "source": [
    "# 輪廓檢測\n",
    "cnts, _ = cv2.findContours(edged.copy(), cv2.RETR_EXTERNAL, cv2.CHAIN_APPROX_SIMPLE)\n",
    "cv2.drawContours(contours_img, cnts, -1, (0, 0, 255), 3) # 繪製圖像, 輪廓, 輪廓索引, 顏色模式(B, G, R), 線條厚度\n",
    "cv_show(contours_img)\n",
    "doc_cnt = None"
   ]
  },
  {
   "cell_type": "code",
   "execution_count": 7,
   "metadata": {},
   "outputs": [],
   "source": [
    "# 檢查及排序\n",
    "if len(cnts) > 0:\n",
    "    # 排序\n",
    "    cnts = sorted(cnts, key=cv2.contourArea, reverse=True) # 依面積排序  \n",
    "    for c in cnts:\n",
    "        # 近似\n",
    "        # 對contour 做多邊形逼近, 用周長百分比, 越小越像\n",
    "        peri = cv2.arcLength(c, True) # 周長\n",
    "        approx = cv2.approxPolyDP(c, 0.02 * peri, True) \n",
    "        # 準備透視變換\n",
    "        if len(approx) == 4:\n",
    "            doc_cnt = approx\n",
    "            break   \n",
    "    "
   ]
  },
  {
   "cell_type": "code",
   "execution_count": 8,
   "metadata": {},
   "outputs": [],
   "source": [
    "# 透視變換\n",
    "warped = four_point_transform(gray, doc_cnt.reshape(4, 2))\n",
    "cv_show(warped)\n",
    "# Otsu's 閾值處理\n",
    "thresh = cv2.threshold(warped, 0, 255, cv2.THRESH_BINARY_INV | cv2.THRESH_OTSU)[1] \n",
    "cv_show(thresh)\n"
   ]
  },
  {
   "cell_type": "code",
   "execution_count": 9,
   "metadata": {},
   "outputs": [],
   "source": [
    "thresh_Contours = thresh.copy()\n",
    "# 找到每一個圓圈輪廓\n",
    "cnts, _ = cv2.findContours(thresh.copy(), cv2.RETR_EXTERNAL, cv2.CHAIN_APPROX_SIMPLE)\n",
    "cv2.drawContours(thresh_Contours, cnts, -1, (0, 0, 255), 3) \n",
    "cv_show(thresh_Contours)"
   ]
  },
  {
   "cell_type": "code",
   "execution_count": 10,
   "metadata": {},
   "outputs": [],
   "source": [
    "question_cnts = []\n",
    "for c in cnts:\n",
    "    # 計算比例和大小\n",
    "    (x, y, w, h) = cv2.boundingRect(c)\n",
    "    ar = w / float(h)\n",
    "\n",
    "    # 指定標準\n",
    "    if w >= 20 and h >= 20 and ar >= 0.9 and ar <= 1.1:\n",
    "        question_cnts.append(c)\n",
    "\n"
   ]
  },
  {
   "cell_type": "code",
   "execution_count": 11,
   "metadata": {},
   "outputs": [
    {
     "name": "stdout",
     "output_type": "stream",
     "text": [
      "[INFO] score: 80.0%\n"
     ]
    }
   ],
   "source": [
    "# 按照從上到下排序\n",
    "question_cnts = sort_contours(question_cnts, method=\"top-to-bottom\")[0]\n",
    "correct = 0\n",
    "# 每排有五個選項\n",
    "for (q, i) in enumerate(np.arange(0, len(question_cnts), 5)):\n",
    "    # 排序\n",
    "    cnts = sort_contours(question_cnts[i: i+5])[0]\n",
    "    bubbled = None\n",
    "\n",
    "    for (j, c) in enumerate(cnts):\n",
    "        # 使用 mask來判斷結果\n",
    "        mask = np.zeros(thresh.shape, dtype=\"uint8\")\n",
    "        cv2.drawContours(mask, [c], -1, 255, -1) #-1表示填充\n",
    "        \n",
    "        # 通過計算 != 0的數量來計算是否選擇該答案\n",
    "        mask = cv2.bitwise_and(thresh, thresh, mask=mask)\n",
    "        cv_show(mask)\n",
    "        total = cv2.countNonZero(mask)\n",
    "#         print(f'{q, j}: {total}')\n",
    "\n",
    "        # 通過閾值判斷\n",
    "        if bubbled is None or total > bubbled[0]:\n",
    "            bubbled = (total, j)\n",
    "\n",
    "    # 對比正確答案\n",
    "    color = (0, 0, 255)\n",
    "    k = ANSWER_KEY[q]\n",
    "    # 判斷正確\n",
    "    if k == bubbled[1]:\n",
    "        color = (0, 255, 0)\n",
    "        correct += 1\n",
    "    # 繪圖\n",
    "    cv2.drawContours(warped, [cnts[k]], -1, color, 3)\n",
    "    \n",
    "score = (correct / 5.0) * 100\n",
    "print(f\"[INFO] score: {score}%\")\n",
    "cv2.putText(warped, f\"{score}%\", (10, 30),\n",
    "            cv2.FONT_HERSHEY_SIMPLEX, 0.9, (0, 0, 255), 2)\n",
    "\n",
    "cv_show(image)\n",
    "cv_show(warped)"
   ]
  },
  {
   "cell_type": "code",
   "execution_count": null,
   "metadata": {},
   "outputs": [],
   "source": []
  },
  {
   "cell_type": "code",
   "execution_count": null,
   "metadata": {},
   "outputs": [],
   "source": []
  }
 ],
 "metadata": {
  "kernelspec": {
   "display_name": "cv",
   "language": "python",
   "name": "cv"
  },
  "language_info": {
   "codemirror_mode": {
    "name": "ipython",
    "version": 3
   },
   "file_extension": ".py",
   "mimetype": "text/x-python",
   "name": "python",
   "nbconvert_exporter": "python",
   "pygments_lexer": "ipython3",
   "version": "3.7.7"
  }
 },
 "nbformat": 4,
 "nbformat_minor": 4
}
