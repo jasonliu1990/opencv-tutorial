{
 "cells": [
  {
   "cell_type": "code",
   "execution_count": 1,
   "metadata": {},
   "outputs": [],
   "source": [
    "import cv2\n",
    "import matplotlib.pyplot as plt\n",
    "import numpy as np\n",
    "%matplotlib inline"
   ]
  },
  {
   "cell_type": "code",
   "execution_count": 2,
   "metadata": {},
   "outputs": [],
   "source": [
    "def cv_show(img, name='image'):\n",
    "    cv2.imshow(name, img)\n",
    "    cv2.waitKey(0)\n",
    "    cv2.destroyAllWindows()"
   ]
  },
  {
   "cell_type": "markdown",
   "metadata": {},
   "source": [
    "## Canny邊緣檢測\n",
    "1. 使用高斯濾波進行平滑處理, 過濾噪點\n",
    "2. 計算圖像中每個像素點的梯度和方向\n",
    "3. 應用非極大值抑制, 消除邊緣檢測帶來的雜散響應\n",
    "4. 應用雙閾值檢測來確定真實的和潛在的邊緣\n",
    "5. 通過抑制孤立的若邊緣最終完成邊緣檢測"
   ]
  },
  {
   "cell_type": "code",
   "execution_count": 5,
   "metadata": {},
   "outputs": [],
   "source": [
    "path = 'dataset/lena.jpg'\n",
    "path2 = 'dataset/car.png'"
   ]
  },
  {
   "cell_type": "code",
   "execution_count": 8,
   "metadata": {},
   "outputs": [],
   "source": [
    "img = cv2.imread(path, cv2.IMREAD_GRAYSCALE)\n",
    "\n",
    "v1 = cv2.Canny(img, 80, 150) # minVal, maxVal\n",
    "v2 = cv2.Canny(img, 50, 100)\n",
    "\n",
    "res = np.hstack((img, v1, v2))\n",
    "cv_show(res)"
   ]
  },
  {
   "cell_type": "code",
   "execution_count": 14,
   "metadata": {},
   "outputs": [],
   "source": [
    "img = cv2.imread(path2, cv2.IMREAD_GRAYSCALE)\n",
    "\n",
    "v1 = cv2.Canny(img, 120, 250)\n",
    "v2 = cv2.Canny(img, 50, 100)\n",
    "\n",
    "res = np.hstack((v1, v2))\n",
    "cv_show(res)"
   ]
  },
  {
   "cell_type": "code",
   "execution_count": null,
   "metadata": {},
   "outputs": [],
   "source": []
  },
  {
   "cell_type": "code",
   "execution_count": null,
   "metadata": {},
   "outputs": [],
   "source": []
  }
 ],
 "metadata": {
  "kernelspec": {
   "display_name": "cv",
   "language": "python",
   "name": "cv"
  },
  "language_info": {
   "codemirror_mode": {
    "name": "ipython",
    "version": 3
   },
   "file_extension": ".py",
   "mimetype": "text/x-python",
   "name": "python",
   "nbconvert_exporter": "python",
   "pygments_lexer": "ipython3",
   "version": "3.7.7"
  }
 },
 "nbformat": 4,
 "nbformat_minor": 4
}
